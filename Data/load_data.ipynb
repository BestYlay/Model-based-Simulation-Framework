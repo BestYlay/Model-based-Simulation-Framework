{
 "cells": [
  {
   "cell_type": "code",
   "execution_count": 1,
   "id": "bd25530b",
   "metadata": {},
   "outputs": [
    {
     "name": "stdout",
     "output_type": "stream",
     "text": [
      "BRCA shape: (740545, 90)\n",
      "CRC shape: (699010, 95)\n",
      "NSCLC shape: (773089, 80)\n",
      "PANC shape: (349115, 84)\n",
      "PROSTATE shape: (381656, 89)\n"
     ]
    }
   ],
   "source": [
    "import pandas as pd\n",
    "import numpy as np\n",
    "import sqlite3\n",
    "pd.set_option ('display.max_columns', None)\n",
    "\n",
    "# 连接到你的SQLite数据库\n",
    "db_path = 'msk_chord.db'\n",
    "con = sqlite3.connect(db_path)\n",
    "\n",
    "# 读取之前创建的视图或执行长查询\n",
    "df_brca = pd.read_sql_query(\"SELECT * FROM brca_survival_lstm_dataset\", con)\n",
    "df_crc = pd.read_sql_query(\"SELECT * FROM crc_survival_lstm_dataset\", con)\n",
    "df_nsclc = pd.read_sql_query(\"SELECT * FROM nsclc_survival_lstm_dataset\", con)\n",
    "df_panc = pd.read_sql_query(\"SELECT * FROM panc_survival_lstm_dataset\", con)\n",
    "df_prostate = pd.read_sql_query(\"SELECT * FROM prostate_survival_lstm_dataset\", con)\n",
    "con.close()\n",
    "\n",
    "print(\"BRCA shape:\", df_brca.shape)\n",
    "print(\"CRC shape:\", df_crc.shape)\n",
    "print(\"NSCLC shape:\", df_nsclc.shape)\n",
    "print(\"PANC shape:\", df_panc.shape)\n",
    "print(\"PROSTATE shape:\", df_prostate.shape)"
   ]
  },
  {
   "cell_type": "code",
   "execution_count": 2,
   "id": "c2a9494d",
   "metadata": {},
   "outputs": [
    {
     "name": "stdout",
     "output_type": "stream",
     "text": [
      "BRCA shape: (740545, 89)\n",
      "CRC shape: (699010, 94)\n",
      "NSCLC shape: (773089, 79)\n",
      "PANC shape: (349115, 83)\n",
      "PROSTATE shape: (381656, 88)\n"
     ]
    }
   ],
   "source": [
    "# 显示数据基本信息\n",
    "df_brca = df_brca.drop('PATIENT_ID:1', axis=1)\n",
    "df_crc = df_crc.drop('PATIENT_ID:1', axis=1)\n",
    "df_nsclc = df_nsclc.drop('PATIENT_ID:1', axis=1)\n",
    "df_panc = df_panc.drop('PATIENT_ID:1', axis=1)\n",
    "df_prostate = df_prostate.drop('PATIENT_ID:1', axis=1)\n",
    "print(\"BRCA shape:\", df_brca.shape)\n",
    "print(\"CRC shape:\", df_crc.shape)\n",
    "print(\"NSCLC shape:\", df_nsclc.shape)\n",
    "print(\"PANC shape:\", df_panc.shape)\n",
    "print(\"PROSTATE shape:\", df_prostate.shape)"
   ]
  },
  {
   "cell_type": "code",
   "execution_count": null,
   "id": "1521caa9",
   "metadata": {},
   "outputs": [
    {
     "name": "stdout",
     "output_type": "stream",
     "text": [
      "BRCA shape: (740545, 90)\n",
      "CRC shape: (699010, 95)\n",
      "NSCLC shape: (773089, 80)\n",
      "PANC shape: (349115, 84)\n",
      "PROSTATE shape: (381656, 89)\n"
     ]
    }
   ],
   "source": [
    "df_brca['time'] = df_brca['stop'] - df_brca['entry']\n",
    "df_crc['time'] = df_crc['stop'] - df_crc['entry']\n",
    "df_nsclc['time'] = df_nsclc['stop'] - df_nsclc['entry']\n",
    "df_panc['time'] = df_panc['stop'] - df_panc['entry']\n",
    "df_prostate['time'] = df_prostate['stop'] - df_prostate['entry']\n",
    "print(\"BRCA shape:\", df_brca.shape)\n",
    "print(\"CRC shape:\", df_crc.shape)\n",
    "print(\"NSCLC shape:\", df_nsclc.shape)\n",
    "print(\"PANC shape:\", df_panc.shape)\n",
    "print(\"PROSTATE shape:\", df_prostate.shape)"
   ]
  },
  {
   "cell_type": "code",
   "execution_count": 8,
   "id": "1f66d9d6",
   "metadata": {},
   "outputs": [],
   "source": [
    "# 保存为csv文件\n",
    "df_brca.to_csv('df_brca.csv', index=False)\n",
    "df_crc.to_csv('df_crc.csv', index=False)\n",
    "df_nsclc.to_csv('df_nsclc.csv', index=False)\n",
    "df_panc.to_csv('df_panc.csv', index=False)\n",
    "df_prostate.to_csv('df_prostate.csv', index=False)"
   ]
  }
 ],
 "metadata": {
  "kernelspec": {
   "display_name": "kaggle",
   "language": "python",
   "name": "python3"
  },
  "language_info": {
   "codemirror_mode": {
    "name": "ipython",
    "version": 3
   },
   "file_extension": ".py",
   "mimetype": "text/x-python",
   "name": "python",
   "nbconvert_exporter": "python",
   "pygments_lexer": "ipython3",
   "version": "3.12.9"
  }
 },
 "nbformat": 4,
 "nbformat_minor": 5
}
