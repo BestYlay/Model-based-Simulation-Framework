{
 "cells": [
  {
   "cell_type": "code",
   "execution_count": 1,
   "id": "1f66d9d6",
   "metadata": {},
   "outputs": [
    {
     "name": "stdout",
     "output_type": "stream",
     "text": [
      "BRCA shape: (740545, 90)\n",
      "CRC shape: (699010, 95)\n",
      "NSCLC shape: (773089, 80)\n",
      "PANC shape: (349115, 84)\n",
      "PROSTATE shape: (381656, 89)\n"
     ]
    }
   ],
   "source": [
    "import pandas as pd\n",
    "from tqdm import tqdm # 使用tqdm来显示处理进度，对于大数据集很有用\n",
    "df_brca = pd.read_csv('df_brca.csv')\n",
    "df_crc = pd.read_csv('df_crc.csv')\n",
    "df_nsclc = pd.read_csv('df_nsclc.csv')\n",
    "df_panc = pd.read_csv('df_panc.csv')\n",
    "df_prostate = pd.read_csv('df_prostate.csv')\n",
    "print(\"BRCA shape:\", df_brca.shape)\n",
    "print(\"CRC shape:\", df_crc.shape)\n",
    "print(\"NSCLC shape:\", df_nsclc.shape)\n",
    "print(\"PANC shape:\", df_panc.shape)\n",
    "print(\"PROSTATE shape:\", df_prostate.shape)"
   ]
  },
  {
   "cell_type": "code",
   "execution_count": null,
   "id": "0645a526",
   "metadata": {},
   "outputs": [],
   "source": [
    "def create_landmark_snapshots(input_filepath=\"df_full.csv\", \n",
    "                              output_filepath=\"df_landmarks.csv\",\n",
    "                              landmark_times_in_days=None):\n",
    "    if landmark_times_in_days is None:\n",
    "        landmark_times_in_days = [90, 180, 365, 548, 730, 1095]\n",
    "    print(f\"使用的Landmark时间点 (天): {landmark_times_in_days}\")\n",
    "\n",
    "    print(f\"正在从 '{input_filepath}' 加载数据...\")\n",
    "    try:\n",
    "        df_full = pd.read_csv(input_filepath)\n",
    "    except FileNotFoundError:\n",
    "        print(f\"错误: 输入文件 '{input_filepath}' 未找到。\")\n",
    "        return\n",
    "\n",
    "    required_cols = ['PATIENT_ID', 'START_DATE', 'stop', 'dead']\n",
    "    if not all(col in df_full.columns for col in required_cols):\n",
    "        print(f\"错误: 输入文件必须包含以下列: {required_cols}\")\n",
    "        return\n",
    "\n",
    "    patient_outcomes = df_full[['PATIENT_ID', 'stop', 'dead', 'entry']].drop_duplicates().copy()\n",
    "\n",
    "    if 'entry' not in patient_outcomes.columns:\n",
    "        patient_outcomes['entry'] = 0\n",
    "    patient_outcomes['time_total'] = patient_outcomes['stop'] - patient_outcomes['entry']\n",
    "    \n",
    "    patient_outcomes = patient_outcomes[patient_outcomes['time_total'] >= 0]\n",
    "\n",
    "    df_full = pd.merge(\n",
    "        df_full.drop(columns=['time_total'], errors='ignore'),\n",
    "        patient_outcomes[['PATIENT_ID', 'time_total']],\n",
    "        on='PATIENT_ID'\n",
    "    )\n",
    "    \n",
    "    print(\"数据加载与初步处理完成。\")\n",
    "\n",
    "    all_snapshots = []\n",
    "    patient_groups = df_full.groupby('PATIENT_ID')\n",
    "    unique_patient_ids = df_full['PATIENT_ID'].unique()\n",
    "    \n",
    "    print(f\"正在为 {len(unique_patient_ids)} 名患者生成快照...\")\n",
    "    \n",
    "    for patient_id in tqdm(unique_patient_ids, desc=\"Processing Patients\"):\n",
    "        patient_data = patient_groups.get_group(patient_id)\n",
    "        total_survival_time = patient_data['time_total'].iloc[0]\n",
    "        original_dead_status = patient_data['dead'].iloc[0]\n",
    "\n",
    "        for landmark_time in landmark_times_in_days:\n",
    "            \n",
    "            if total_survival_time < landmark_time:\n",
    "                continue\n",
    "            \n",
    "            feature_sequence = patient_data[patient_data['START_DATE'] < landmark_time].copy()\n",
    "            \n",
    "            if feature_sequence.empty:\n",
    "                continue\n",
    "            \n",
    "            time_residual = total_survival_time - landmark_time\n",
    "            \n",
    "            feature_sequence['SAMPLE_ID'] = f\"{patient_id}_{landmark_time}\"\n",
    "            feature_sequence['time_landmark'] = landmark_time\n",
    "            feature_sequence['time_residual'] = time_residual\n",
    "            feature_sequence['dead_residual'] = original_dead_status\n",
    "            \n",
    "            all_snapshots.append(feature_sequence)\n",
    "\n",
    "    if not all_snapshots:\n",
    "        print(\"错误: 未能生成任何有效的快照样本。请检查您的数据和landmark设置。\")\n",
    "        return\n",
    "        \n",
    "    df_landmarks = pd.concat(all_snapshots, ignore_index=True)\n",
    "\n",
    "    df_landmarks = df_landmarks.rename(columns={\n",
    "        'time_residual': 'time', \n",
    "        'dead_residual': 'dead' \n",
    "    })\n",
    "\n",
    "    df_landmarks = df_landmarks.drop(columns=['time_total'], errors='ignore')\n",
    "\n",
    "    print(\"\\n快照生成完毕。\")\n",
    "    print(f\"  - 原始事件记录数: {len(df_full)}\")\n",
    "    print(f\"  - 生成的Landmark事件记录数: {len(df_landmarks)}\")\n",
    "    print(f\"  - 生成的独立样本（快照）总数: {df_landmarks['SAMPLE_ID'].nunique()}\")\n",
    "    \n",
    "    print(f\"正在将结果保存到 '{output_filepath}'...\")\n",
    "    df_landmarks.to_csv(output_filepath, index=False)\n",
    "    print(\"处理完成！\")"
   ]
  },
  {
   "cell_type": "code",
   "execution_count": 5,
   "id": "f0828545",
   "metadata": {},
   "outputs": [
    {
     "name": "stdout",
     "output_type": "stream",
     "text": [
      "使用的Landmark时间点 (天): [180, 365, 545, 730, 1095, 1825]\n",
      "正在从 'df_brca.csv' 加载数据...\n",
      "数据加载与初步处理完成。\n",
      "正在为 5368 名患者生成快照...\n"
     ]
    },
    {
     "name": "stderr",
     "output_type": "stream",
     "text": [
      "Processing Patients: 100%|██████████| 5368/5368 [00:19<00:00, 274.37it/s]\n"
     ]
    },
    {
     "name": "stdout",
     "output_type": "stream",
     "text": [
      "\n",
      "快照生成完毕。\n",
      "  - 原始事件记录数: 740545\n",
      "  - 生成的Landmark事件记录数: 1833037\n",
      "  - 生成的独立样本（快照）总数: 20687\n",
      "正在将结果保存到 'df_brca_landmarks.csv'...\n",
      "处理完成！\n",
      "使用的Landmark时间点 (天): [180, 365, 545, 730, 1095, 1825]\n",
      "正在从 'df_crc.csv' 加载数据...\n",
      "数据加载与初步处理完成。\n",
      "正在为 5543 名患者生成快照...\n"
     ]
    },
    {
     "name": "stderr",
     "output_type": "stream",
     "text": [
      "Processing Patients: 100%|██████████| 5543/5543 [00:17<00:00, 314.37it/s]\n"
     ]
    },
    {
     "name": "stdout",
     "output_type": "stream",
     "text": [
      "\n",
      "快照生成完毕。\n",
      "  - 原始事件记录数: 699010\n",
      "  - 生成的Landmark事件记录数: 1649879\n",
      "  - 生成的独立样本（快照）总数: 18139\n",
      "正在将结果保存到 'df_crc_landmarks.csv'...\n",
      "处理完成！\n",
      "使用的Landmark时间点 (天): [180, 365, 545, 730, 1095, 1825]\n",
      "正在从 'df_nsclc.csv' 加载数据...\n",
      "数据加载与初步处理完成。\n",
      "正在为 7809 名患者生成快照...\n"
     ]
    },
    {
     "name": "stderr",
     "output_type": "stream",
     "text": [
      "Processing Patients: 100%|██████████| 7809/7809 [00:22<00:00, 344.64it/s]\n"
     ]
    },
    {
     "name": "stdout",
     "output_type": "stream",
     "text": [
      "\n",
      "快照生成完毕。\n",
      "  - 原始事件记录数: 773089\n",
      "  - 生成的Landmark事件记录数: 1643315\n",
      "  - 生成的独立样本（快照）总数: 23924\n",
      "正在将结果保存到 'df_nsclc_landmarks.csv'...\n",
      "处理完成！\n",
      "使用的Landmark时间点 (天): [180, 365, 545, 730, 1095, 1825]\n",
      "正在从 'df_panc.csv' 加载数据...\n",
      "数据加载与初步处理完成。\n",
      "正在为 3109 名患者生成快照...\n"
     ]
    },
    {
     "name": "stderr",
     "output_type": "stream",
     "text": [
      "Processing Patients: 100%|██████████| 3109/3109 [00:06<00:00, 494.95it/s]\n"
     ]
    },
    {
     "name": "stdout",
     "output_type": "stream",
     "text": [
      "\n",
      "快照生成完毕。\n",
      "  - 原始事件记录数: 349115\n",
      "  - 生成的Landmark事件记录数: 615424\n",
      "  - 生成的独立样本（快照）总数: 6914\n",
      "正在将结果保存到 'df_panc_landmarks.csv'...\n",
      "处理完成！\n",
      "使用的Landmark时间点 (天): [180, 365, 545, 730, 1095, 1825]\n",
      "正在从 'df_prostate.csv' 加载数据...\n",
      "数据加载与初步处理完成。\n",
      "正在为 3211 名患者生成快照...\n"
     ]
    },
    {
     "name": "stderr",
     "output_type": "stream",
     "text": [
      "Processing Patients: 100%|██████████| 3211/3211 [00:11<00:00, 281.49it/s]\n"
     ]
    },
    {
     "name": "stdout",
     "output_type": "stream",
     "text": [
      "\n",
      "快照生成完毕。\n",
      "  - 原始事件记录数: 381656\n",
      "  - 生成的Landmark事件记录数: 935187\n",
      "  - 生成的独立样本（快照）总数: 11799\n",
      "正在将结果保存到 'df_prostate_landmarks.csv'...\n",
      "处理完成！\n"
     ]
    }
   ],
   "source": [
    "custom_landmarks = [180, 365, 545, 730, 1095, 1825]\n",
    "create_landmark_snapshots(input_filepath=\"df_brca.csv\", \n",
    "                            output_filepath=\"df_brca_landmarks.csv\",\n",
    "                            landmark_times_in_days=custom_landmarks)\n",
    "create_landmark_snapshots(input_filepath=\"df_crc.csv\", \n",
    "                            output_filepath=\"df_crc_landmarks.csv\",\n",
    "                            landmark_times_in_days=custom_landmarks)\n",
    "create_landmark_snapshots(input_filepath=\"df_nsclc.csv\", \n",
    "                            output_filepath=\"df_nsclc_landmarks.csv\",\n",
    "                            landmark_times_in_days=custom_landmarks)\n",
    "create_landmark_snapshots(input_filepath=\"df_panc.csv\", \n",
    "                            output_filepath=\"df_panc_landmarks.csv\",\n",
    "                            landmark_times_in_days=custom_landmarks)\n",
    "create_landmark_snapshots(input_filepath=\"df_prostate.csv\", \n",
    "                            output_filepath=\"df_prostate_landmarks.csv\",\n",
    "                            landmark_times_in_days=custom_landmarks)"
   ]
  },
  {
   "cell_type": "code",
   "execution_count": 6,
   "id": "89f54c52",
   "metadata": {},
   "outputs": [
    {
     "name": "stdout",
     "output_type": "stream",
     "text": [
      "BRCA shape: (1833037, 94)\n",
      "CRC shape: (1649879, 99)\n",
      "NSCLC shape: (1643315, 84)\n",
      "PANC shape: (615424, 88)\n",
      "PROSTATE shape: (935187, 93)\n"
     ]
    }
   ],
   "source": [
    "df_brca = pd.read_csv('df_brca_landmarks.csv')\n",
    "df_crc = pd.read_csv('df_crc_landmarks.csv')\n",
    "df_nsclc = pd.read_csv('df_nsclc_landmarks.csv')\n",
    "df_panc = pd.read_csv('df_panc_landmarks.csv')\n",
    "df_prostate = pd.read_csv('df_prostate_landmarks.csv')\n",
    "print(\"BRCA shape:\", df_brca.shape)\n",
    "print(\"CRC shape:\", df_crc.shape)\n",
    "print(\"NSCLC shape:\", df_nsclc.shape)\n",
    "print(\"PANC shape:\", df_panc.shape)\n",
    "print(\"PROSTATE shape:\", df_prostate.shape)"
   ]
  },
  {
   "cell_type": "code",
   "execution_count": 7,
   "id": "665b9497",
   "metadata": {},
   "outputs": [
    {
     "name": "stdout",
     "output_type": "stream",
     "text": [
      "BRCA shape: (1833037, 92)\n",
      "CRC shape: (1649879, 97)\n",
      "NSCLC shape: (1643315, 82)\n",
      "PANC shape: (615424, 86)\n",
      "PROSTATE shape: (935187, 91)\n"
     ]
    }
   ],
   "source": [
    "df_brca.drop(['time.1', 'dead.1'], axis=1, inplace=True)\n",
    "df_crc.drop(['time.1', 'dead.1'], axis=1, inplace=True)\n",
    "df_nsclc.drop(['time.1', 'dead.1'], axis=1, inplace=True)\n",
    "df_panc.drop(['time.1', 'dead.1'], axis=1, inplace=True)\n",
    "df_prostate.drop(['time.1', 'dead.1'], axis=1, inplace=True)\n",
    "print(\"BRCA shape:\", df_brca.shape)\n",
    "print(\"CRC shape:\", df_crc.shape)\n",
    "print(\"NSCLC shape:\", df_nsclc.shape)\n",
    "print(\"PANC shape:\", df_panc.shape)\n",
    "print(\"PROSTATE shape:\", df_prostate.shape)"
   ]
  },
  {
   "cell_type": "code",
   "execution_count": 8,
   "id": "01ab6d14",
   "metadata": {},
   "outputs": [],
   "source": [
    "# 保存为csv文件\n",
    "df_brca.to_csv('df_brca_landmarks.csv', index=False)\n",
    "df_crc.to_csv('df_crc_landmarks.csv', index=False)\n",
    "df_nsclc.to_csv('df_nsclc_landmarks.csv', index=False)\n",
    "df_panc.to_csv('df_panc_landmarks.csv', index=False)\n",
    "df_prostate.to_csv('df_prostate_landmarks.csv', index=False)"
   ]
  }
 ],
 "metadata": {
  "kernelspec": {
   "display_name": "kaggle",
   "language": "python",
   "name": "python3"
  },
  "language_info": {
   "codemirror_mode": {
    "name": "ipython",
    "version": 3
   },
   "file_extension": ".py",
   "mimetype": "text/x-python",
   "name": "python",
   "nbconvert_exporter": "python",
   "pygments_lexer": "ipython3",
   "version": "3.12.9"
  }
 },
 "nbformat": 4,
 "nbformat_minor": 5
}
